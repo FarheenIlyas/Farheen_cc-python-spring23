{
 "cells": [
  {
   "cell_type": "markdown",
   "id": "d9f9be4f",
   "metadata": {},
   "source": [
    "#### Create a class object of something that you love. Write at least 3 methods for it. Include some attributes.\n",
    "\n",
    "Items you love can be categorical:\n",
    "<ul>\n",
    "    <li>Food</li>\n",
    "    <li>Pets</li>\n",
    "    <li>Venhicles</li>\n",
    "    <li>Places</li>\n",
    "    <li>Activities</li>\n",
    "    <li>Things</li>\n",
    "       </ul>\n",
    "       "
   ]
  },
  {
   "cell_type": "code",
   "execution_count": 1,
   "id": "f29915f4",
   "metadata": {},
   "outputs": [],
   "source": [
    "class FriedChicken:\n",
    "    \n",
    "    \n",
    "    category= \"Crsipy Food\"\n",
    "    \n",
    "    def __init__(self, spices,sides, drinks):\n",
    "        self.spices= spices\n",
    "        self.sides= sides\n",
    "        self.drinks= drinks\n",
    "        \n",
    "    def preference (self):\n",
    "        print(\"I want the spice level to be {}\".format(self.spices))\n",
    "    def extras (self):\n",
    "        print(\" I want a side of {}\".format(self.sides))\n",
    "    def beverage (self):\n",
    "         print(\"My choice of drink is, {}\".format(self.drinks))"
   ]
  },
  {
   "cell_type": "code",
   "execution_count": 2,
   "id": "3938e99b",
   "metadata": {},
   "outputs": [],
   "source": [
    "friend_choice= FriedChicken(spices= \"mild\", sides= \"fries\", drinks= \"Pepsi\")"
   ]
  },
  {
   "cell_type": "code",
   "execution_count": 3,
   "id": "9cc74460",
   "metadata": {},
   "outputs": [],
   "source": [
    "my_choice= FriedChicken(spices= \"hot\", sides= \"potato wedges\", drinks= \"Water\")"
   ]
  },
  {
   "cell_type": "code",
   "execution_count": 4,
   "id": "bd23a02e",
   "metadata": {},
   "outputs": [
    {
     "data": {
      "text/plain": [
       "'potato wedges'"
      ]
     },
     "execution_count": 4,
     "metadata": {},
     "output_type": "execute_result"
    }
   ],
   "source": [
    "my_choice.sides"
   ]
  },
  {
   "cell_type": "code",
   "execution_count": 5,
   "id": "d96efa0b",
   "metadata": {},
   "outputs": [
    {
     "data": {
      "text/plain": [
       "'Pepsi'"
      ]
     },
     "execution_count": 5,
     "metadata": {},
     "output_type": "execute_result"
    }
   ],
   "source": [
    "friend_choice.drinks"
   ]
  },
  {
   "cell_type": "code",
   "execution_count": 6,
   "id": "1e8c8062",
   "metadata": {},
   "outputs": [
    {
     "data": {
      "text/plain": [
       "'Crsipy Food'"
      ]
     },
     "execution_count": 6,
     "metadata": {},
     "output_type": "execute_result"
    }
   ],
   "source": [
    "my_choice.category"
   ]
  },
  {
   "cell_type": "code",
   "execution_count": 7,
   "id": "7e4effa4",
   "metadata": {},
   "outputs": [
    {
     "name": "stdout",
     "output_type": "stream",
     "text": [
      " I want a side of potato wedges\n"
     ]
    }
   ],
   "source": [
    "my_choice.extras()"
   ]
  },
  {
   "cell_type": "code",
   "execution_count": null,
   "id": "6080c499",
   "metadata": {},
   "outputs": [],
   "source": []
  }
 ],
 "metadata": {
  "kernelspec": {
   "display_name": "Python 3 (ipykernel)",
   "language": "python",
   "name": "python3"
  },
  "language_info": {
   "codemirror_mode": {
    "name": "ipython",
    "version": 3
   },
   "file_extension": ".py",
   "mimetype": "text/x-python",
   "name": "python",
   "nbconvert_exporter": "python",
   "pygments_lexer": "ipython3",
   "version": "3.9.13"
  }
 },
 "nbformat": 4,
 "nbformat_minor": 5
}
