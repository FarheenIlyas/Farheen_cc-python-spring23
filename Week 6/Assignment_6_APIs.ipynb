{
 "cells": [
  {
   "cell_type": "code",
   "execution_count": 49,
   "id": "83384084",
   "metadata": {},
   "outputs": [],
   "source": [
    "#As part of teh API assignement, i have explored the \"spoonacular API\"\n",
    "# it is a Food API, that includes recipes by various catergory tyeps including dietary restrictions, type of food, etc.\n",
    "# Using what we learned in class, i went for one whihc requires me to use API key"
   ]
  },
  {
   "cell_type": "code",
   "execution_count": 3,
   "id": "40e65bde",
   "metadata": {},
   "outputs": [],
   "source": [
    "import requests\n",
    "import json\n",
    "import getpass"
   ]
  },
  {
   "cell_type": "code",
   "execution_count": 4,
   "id": "48a5ad7f",
   "metadata": {},
   "outputs": [
    {
     "name": "stdout",
     "output_type": "stream",
     "text": [
      "apikey:········\n"
     ]
    }
   ],
   "source": [
    "api_key = getpass.getpass('apikey:')"
   ]
  },
  {
   "cell_type": "code",
   "execution_count": 14,
   "id": "f80e5b88",
   "metadata": {},
   "outputs": [],
   "source": [
    "api_url= f'https://api.spoonacular.com/recipes/random?number=1&tags=vegetarian,rice&apiKey={api_key}'\n",
    "\n",
    "#I used a url that allows me to get random recipes that are vegertarian and rice based- use the APIs\n",
    "#random endpoint to access that"
   ]
  },
  {
   "cell_type": "code",
   "execution_count": 15,
   "id": "fdddcdfc",
   "metadata": {},
   "outputs": [],
   "source": [
    "response= requests.get(api_url)"
   ]
  },
  {
   "cell_type": "code",
   "execution_count": 16,
   "id": "14c8eb62",
   "metadata": {},
   "outputs": [],
   "source": [
    "recip= response.json()"
   ]
  },
  {
   "cell_type": "code",
   "execution_count": 17,
   "id": "dcd18102",
   "metadata": {},
   "outputs": [
    {
     "data": {
      "text/plain": [
       "{'recipes': [{'vegetarian': True,\n",
       "   'vegan': False,\n",
       "   'glutenFree': True,\n",
       "   'dairyFree': False,\n",
       "   'veryHealthy': False,\n",
       "   'cheap': False,\n",
       "   'veryPopular': False,\n",
       "   'sustainable': False,\n",
       "   'lowFodmap': False,\n",
       "   'weightWatcherSmartPoints': 20,\n",
       "   'gaps': 'no',\n",
       "   'preparationMinutes': -1,\n",
       "   'cookingMinutes': -1,\n",
       "   'aggregateLikes': 32,\n",
       "   'healthScore': 18,\n",
       "   'creditsText': 'Afrolems',\n",
       "   'license': 'CC BY 4.0',\n",
       "   'sourceName': 'Afrolems',\n",
       "   'pricePerServing': 123.05,\n",
       "   'extendedIngredients': [{'id': 12108,\n",
       "     'aisle': 'Baking',\n",
       "     'image': 'coconut-flakes.png',\n",
       "     'consistency': 'SOLID',\n",
       "     'name': 'coconut',\n",
       "     'nameClean': 'unsweetened coconut',\n",
       "     'original': 'A handful of Grated Coconut',\n",
       "     'originalName': 'Grated Coconut',\n",
       "     'amount': 1.0,\n",
       "     'unit': 'handful',\n",
       "     'meta': ['grated'],\n",
       "     'measures': {'us': {'amount': 1.0,\n",
       "       'unitShort': 'handful',\n",
       "       'unitLong': 'handful'},\n",
       "      'metric': {'amount': 1.0,\n",
       "       'unitShort': 'handful',\n",
       "       'unitLong': 'handful'}}},\n",
       "    {'id': 12118,\n",
       "     'aisle': 'Canned and Jarred;Milk, Eggs, Other Dairy',\n",
       "     'image': 'coconut-milk.png',\n",
       "     'consistency': 'LIQUID',\n",
       "     'name': 'coconut milk',\n",
       "     'nameClean': 'coconut milk',\n",
       "     'original': '¼ cup of Coconut milk',\n",
       "     'originalName': 'Coconut milk',\n",
       "     'amount': 0.25,\n",
       "     'unit': 'cup',\n",
       "     'meta': [],\n",
       "     'measures': {'us': {'amount': 0.25,\n",
       "       'unitShort': 'cups',\n",
       "       'unitLong': 'cups'},\n",
       "      'metric': {'amount': 59.147,\n",
       "       'unitShort': 'ml',\n",
       "       'unitLong': 'milliliters'}}},\n",
       "    {'id': 1095,\n",
       "     'aisle': 'Baking',\n",
       "     'image': 'evaporated-milk.png',\n",
       "     'consistency': 'SOLID',\n",
       "     'name': 'condensed milk',\n",
       "     'nameClean': 'sweetened condensed milk',\n",
       "     'original': '¼ cup of Condensed milk',\n",
       "     'originalName': 'Condensed milk',\n",
       "     'amount': 0.25,\n",
       "     'unit': 'cup',\n",
       "     'meta': [],\n",
       "     'measures': {'us': {'amount': 0.25,\n",
       "       'unitShort': 'cups',\n",
       "       'unitLong': 'cups'},\n",
       "      'metric': {'amount': 59.147,\n",
       "       'unitShort': 'ml',\n",
       "       'unitLong': 'milliliters'}}},\n",
       "    {'id': 9431,\n",
       "     'aisle': 'Produce',\n",
       "     'image': 'mixed-fresh-fruit.jpg',\n",
       "     'consistency': 'SOLID',\n",
       "     'name': 'fruits',\n",
       "     'nameClean': 'mixed fruit',\n",
       "     'original': '½ cup of chopped fruits',\n",
       "     'originalName': 'chopped fruits',\n",
       "     'amount': 0.5,\n",
       "     'unit': 'cup',\n",
       "     'meta': ['chopped'],\n",
       "     'measures': {'us': {'amount': 0.5,\n",
       "       'unitShort': 'cups',\n",
       "       'unitLong': 'cups'},\n",
       "      'metric': {'amount': 118.294,\n",
       "       'unitShort': 'ml',\n",
       "       'unitLong': 'milliliters'}}},\n",
       "    {'id': 10120052,\n",
       "     'aisle': 'Pasta and Rice',\n",
       "     'image': 'uncooked-white-rice.png',\n",
       "     'consistency': 'SOLID',\n",
       "     'name': 'tuwo rice',\n",
       "     'nameClean': 'short grain rice',\n",
       "     'original': '1 cup of cooked Tuwo rice (short grain rice)',\n",
       "     'originalName': 'cooked Tuwo rice (short grain rice)',\n",
       "     'amount': 1.0,\n",
       "     'unit': 'cup',\n",
       "     'meta': ['cooked', '(short grain rice)'],\n",
       "     'measures': {'us': {'amount': 1.0, 'unitShort': 'cup', 'unitLong': 'cup'},\n",
       "      'metric': {'amount': 236.588,\n",
       "       'unitShort': 'ml',\n",
       "       'unitLong': 'milliliters'}}}],\n",
       "   'id': 716231,\n",
       "   'title': 'Coconut Rice Pudding',\n",
       "   'readyInMinutes': 45,\n",
       "   'servings': 2,\n",
       "   'sourceUrl': 'http://www.afrolems.com/2016/02/17/coconut-rice-pudding/',\n",
       "   'image': 'https://spoonacular.com/recipeImages/716231-556x370.jpg',\n",
       "   'imageType': 'jpg',\n",
       "   'summary': 'If you have roughly <b>45 minutes</b> to spend in the kitchen, Coconut Rice Pudding might be a tremendous <b>gluten free and lacto ovo vegetarian</b> recipe to try. One portion of this dish contains approximately <b>10g of protein</b>, <b>10g of fat</b>, and a total of <b>574 calories</b>. This recipe serves 2. For <b>$1.23 per serving</b>, this recipe <b>covers 17%</b> of your daily requirements of vitamins and minerals. 32 people have tried and liked this recipe. It is brought to you by Afrolems. If you have coconut, coconut milk, tuwo rice, and a few other ingredients on hand, you can make it. Taking all factors into account, this recipe <b>earns a spoonacular score of 58%</b>, which is pretty good. Similar recipes are <a href=\"https://spoonacular.com/recipes/the-secret-ingredient-coconut-double-coconut-rice-pudding-207045\">The Secret Ingredient (Coconut): Double Coconut Rice Pudding</a>, <a href=\"https://spoonacular.com/recipes/coconut-rice-pudding-127838\">Coconut Rice Pudding</a>, and <a href=\"https://spoonacular.com/recipes/coconut-rice-pudding-54061\">Coconut Rice Pudding</a>.',\n",
       "   'cuisines': [],\n",
       "   'dishTypes': [],\n",
       "   'diets': ['gluten free', 'lacto ovo vegetarian'],\n",
       "   'occasions': [],\n",
       "   'instructions': 'In a pot on low heat, pour in your already cooked tuwo rice, the coconut milk and the condensed milk. Stir and leave to simmer on low heat till the milk becomes absorbed in the rice.Mash the rice a little bit as it is boiling in the pot of milk. Once rice has absorbed the milk completely, take off the stove and allow it to cool.Chop the fruits you would like to add to the pudding and set aside.Grate your coconut and set aside or use store bought coconut flakes.In a pan, pour in your coconut flakes and heat up to toast. Stir it around so it does not burn until you achieve a light brown color and take it off the heat.Serve the rice pudding with the fruits and toasted coconut flakes sprinkled over it as a dessert.',\n",
       "   'analyzedInstructions': [{'name': '',\n",
       "     'steps': [{'number': 1,\n",
       "       'step': 'In a pot on low heat, pour in your already cooked tuwo rice, the coconut milk and the condensed milk. Stir and leave to simmer on low heat till the milk becomes absorbed in the rice.Mash the rice a little bit as it is boiling in the pot of milk. Once rice has absorbed the milk completely, take off the stove and allow it to cool.Chop the fruits you would like to add to the pudding and set aside.Grate your coconut and set aside or use store bought coconut flakes.In a pan, pour in your coconut flakes and heat up to toast. Stir it around so it does not burn until you achieve a light brown color and take it off the heat.',\n",
       "       'ingredients': [{'id': 12108,\n",
       "         'name': 'coconut flakes',\n",
       "         'localizedName': 'coconut flakes',\n",
       "         'image': 'coconut-flakes.png'},\n",
       "        {'id': 1095,\n",
       "         'name': 'sweetened condensed milk',\n",
       "         'localizedName': 'sweetened condensed milk',\n",
       "         'image': 'evaporated-milk.png'},\n",
       "        {'id': 12118,\n",
       "         'name': 'coconut milk',\n",
       "         'localizedName': 'coconut milk',\n",
       "         'image': 'coconut-milk.png'},\n",
       "        {'id': 12104,\n",
       "         'name': 'coconut',\n",
       "         'localizedName': 'coconut',\n",
       "         'image': 'coconut.jpg'},\n",
       "        {'id': 9431,\n",
       "         'name': 'fruit',\n",
       "         'localizedName': 'fruit',\n",
       "         'image': 'mixed-fresh-fruit.jpg'},\n",
       "        {'id': 0,\n",
       "         'name': 'sandwich bread',\n",
       "         'localizedName': 'sandwich bread',\n",
       "         'image': 'white-bread.jpg'},\n",
       "        {'id': 1077,\n",
       "         'name': 'milk',\n",
       "         'localizedName': 'milk',\n",
       "         'image': 'milk.png'},\n",
       "        {'id': 20444,\n",
       "         'name': 'rice',\n",
       "         'localizedName': 'rice',\n",
       "         'image': 'uncooked-white-rice.png'}],\n",
       "       'equipment': [{'id': 404794,\n",
       "         'name': 'stove',\n",
       "         'localizedName': 'stove',\n",
       "         'image': 'oven.jpg'},\n",
       "        {'id': 404645,\n",
       "         'name': 'frying pan',\n",
       "         'localizedName': 'frying pan',\n",
       "         'image': 'pan.png'},\n",
       "        {'id': 404752,\n",
       "         'name': 'pot',\n",
       "         'localizedName': 'pot',\n",
       "         'image': 'stock-pot.jpg'}]},\n",
       "      {'number': 2,\n",
       "       'step': 'Serve the rice pudding with the fruits and toasted coconut flakes sprinkled over it as a dessert.',\n",
       "       'ingredients': [{'id': 12108,\n",
       "         'name': 'coconut flakes',\n",
       "         'localizedName': 'coconut flakes',\n",
       "         'image': 'coconut-flakes.png'},\n",
       "        {'id': 9431,\n",
       "         'name': 'fruit',\n",
       "         'localizedName': 'fruit',\n",
       "         'image': 'mixed-fresh-fruit.jpg'},\n",
       "        {'id': 20444,\n",
       "         'name': 'rice',\n",
       "         'localizedName': 'rice',\n",
       "         'image': 'uncooked-white-rice.png'}],\n",
       "       'equipment': []}]}],\n",
       "   'originalId': None,\n",
       "   'spoonacularSourceUrl': 'https://spoonacular.com/coconut-rice-pudding-716231'}]}"
      ]
     },
     "execution_count": 17,
     "metadata": {},
     "output_type": "execute_result"
    }
   ],
   "source": [
    "recip"
   ]
  },
  {
   "cell_type": "code",
   "execution_count": 21,
   "id": "ebc8e9ff",
   "metadata": {},
   "outputs": [],
   "source": [
    "name= recip['recipes'][0] #I then went on to extract specific data from the dic, like title of recipe, url , dietary restriction etc."
   ]
  },
  {
   "cell_type": "code",
   "execution_count": 22,
   "id": "f5bc6c8e",
   "metadata": {},
   "outputs": [
    {
     "data": {
      "text/plain": [
       "'Coconut Rice Pudding'"
      ]
     },
     "execution_count": 22,
     "metadata": {},
     "output_type": "execute_result"
    }
   ],
   "source": [
    "name['title']"
   ]
  },
  {
   "cell_type": "code",
   "execution_count": 23,
   "id": "a30936a6",
   "metadata": {},
   "outputs": [
    {
     "data": {
      "text/plain": [
       "'http://www.afrolems.com/2016/02/17/coconut-rice-pudding/'"
      ]
     },
     "execution_count": 23,
     "metadata": {},
     "output_type": "execute_result"
    }
   ],
   "source": [
    "name['sourceUrl']"
   ]
  },
  {
   "cell_type": "code",
   "execution_count": 24,
   "id": "72040c53",
   "metadata": {},
   "outputs": [
    {
     "data": {
      "text/plain": [
       "['gluten free', 'lacto ovo vegetarian']"
      ]
     },
     "execution_count": 24,
     "metadata": {},
     "output_type": "execute_result"
    }
   ],
   "source": [
    "name['diets'] #making these calls allowed me to get comfortable on how to navigate the info that i got through response method\n",
    "# I also wanted to extract image, but learnt that it does not have proper url to extract images"
   ]
  },
  {
   "cell_type": "code",
   "execution_count": 35,
   "id": "3eb777bb",
   "metadata": {},
   "outputs": [
    {
     "data": {
      "text/plain": [
       "'If you have roughly <b>45 minutes</b> to spend in the kitchen, Coconut Rice Pudding might be a tremendous <b>gluten free and lacto ovo vegetarian</b> recipe to try. One portion of this dish contains approximately <b>10g of protein</b>, <b>10g of fat</b>, and a total of <b>574 calories</b>. This recipe serves 2. For <b>$1.23 per serving</b>, this recipe <b>covers 17%</b> of your daily requirements of vitamins and minerals. 32 people have tried and liked this recipe. It is brought to you by Afrolems. If you have coconut, coconut milk, tuwo rice, and a few other ingredients on hand, you can make it. Taking all factors into account, this recipe <b>earns a spoonacular score of 58%</b>, which is pretty good. Similar recipes are <a href=\"https://spoonacular.com/recipes/the-secret-ingredient-coconut-double-coconut-rice-pudding-207045\">The Secret Ingredient (Coconut): Double Coconut Rice Pudding</a>, <a href=\"https://spoonacular.com/recipes/coconut-rice-pudding-127838\">Coconut Rice Pudding</a>, and <a href=\"https://spoonacular.com/recipes/coconut-rice-pudding-54061\">Coconut Rice Pudding</a>.'"
      ]
     },
     "execution_count": 35,
     "metadata": {},
     "output_type": "execute_result"
    }
   ],
   "source": [
    "name['summary']"
   ]
  },
  {
   "cell_type": "code",
   "execution_count": null,
   "id": "3a5c3374",
   "metadata": {},
   "outputs": [],
   "source": []
  }
 ],
 "metadata": {
  "kernelspec": {
   "display_name": "Python 3 (ipykernel)",
   "language": "python",
   "name": "python3"
  },
  "language_info": {
   "codemirror_mode": {
    "name": "ipython",
    "version": 3
   },
   "file_extension": ".py",
   "mimetype": "text/x-python",
   "name": "python",
   "nbconvert_exporter": "python",
   "pygments_lexer": "ipython3",
   "version": "3.9.13"
  }
 },
 "nbformat": 4,
 "nbformat_minor": 5
}
