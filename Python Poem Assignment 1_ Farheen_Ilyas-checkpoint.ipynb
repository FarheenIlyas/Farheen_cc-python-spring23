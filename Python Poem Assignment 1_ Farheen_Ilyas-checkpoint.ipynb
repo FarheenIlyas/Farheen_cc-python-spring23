{
 "cells": [
  {
   "cell_type": "markdown",
   "id": "2a79cebd",
   "metadata": {},
   "source": [
    "### Assignment 1"
   ]
  },
  {
   "cell_type": "code",
   "execution_count": 1,
   "id": "96dd3af1",
   "metadata": {},
   "outputs": [],
   "source": [
    "# 1) What is the output of the following code and why? \n",
    "\n",
    "# var1 = 1\n",
    "# var2 = 2\n",
    "# var3 = \"3\"\n",
    "\n",
    "# print(var1 + var2 + var3)\n",
    "\n",
    "var1 = 1\n",
    "var2 = 2\n",
    "var3 = \"3\""
   ]
  },
  {
   "cell_type": "code",
   "execution_count": 2,
   "id": "d41811f7",
   "metadata": {
    "scrolled": true
   },
   "outputs": [
    {
     "ename": "SyntaxError",
     "evalue": "invalid syntax (2245369296.py, line 1)",
     "output_type": "error",
     "traceback": [
      "\u001b[1;36m  File \u001b[1;32m\"C:\\Users\\TLS\\AppData\\Local\\Temp\\ipykernel_12820\\2245369296.py\"\u001b[1;36m, line \u001b[1;32m1\u001b[0m\n\u001b[1;33m    print (var1+ var2+ Var 3)\u001b[0m\n\u001b[1;37m                           ^\u001b[0m\n\u001b[1;31mSyntaxError\u001b[0m\u001b[1;31m:\u001b[0m invalid syntax\n"
     ]
    }
   ],
   "source": [
    "print (var1+ var2+ Var 3) #answer: d , because you cannot combine a string with an integer using (+) operator, in this case \"3\" is a string"
   ]
  },
  {
   "cell_type": "code",
   "execution_count": 4,
   "id": "5061aafe",
   "metadata": {},
   "outputs": [],
   "source": [
    "# 2) What is the output of the following code? \n",
    "\n",
    "# str = \"pynative\"\n",
    "\n",
    "# print (str[1:3])\n",
    "\n",
    "\n",
    "str = \"pynative\""
   ]
  },
  {
   "cell_type": "code",
   "execution_count": 5,
   "id": "f77f1ece",
   "metadata": {},
   "outputs": [
    {
     "name": "stdout",
     "output_type": "stream",
     "text": [
      "yn\n"
     ]
    }
   ],
   "source": [
    "print (str[1:3]) #answer: b"
   ]
  },
  {
   "cell_type": "code",
   "execution_count": 7,
   "id": "f89780a4",
   "metadata": {},
   "outputs": [],
   "source": [
    "# 3) What is the output of the following code? \n",
    "\n",
    "# var= \"James Bond\"\n",
    "# print(var[2::-1])\n",
    "\n",
    "var= \"James Bond\"\n"
   ]
  },
  {
   "cell_type": "code",
   "execution_count": 8,
   "id": "a5aca3ca",
   "metadata": {},
   "outputs": [
    {
     "name": "stdout",
     "output_type": "stream",
     "text": [
      "maJ\n"
     ]
    }
   ],
   "source": [
    "print(var[2::-1]) #answer: c"
   ]
  },
  {
   "cell_type": "code",
   "execution_count": 10,
   "id": "f30a2bd2",
   "metadata": {},
   "outputs": [],
   "source": [
    "# 4) What is the output of the following code? \n",
    "\n",
    "# var = \"James\" * 2  * 3\n",
    "# print(var)\n",
    "\n",
    "var= \"James\"*2*3"
   ]
  },
  {
   "cell_type": "code",
   "execution_count": 11,
   "id": "cab13c7d",
   "metadata": {},
   "outputs": [
    {
     "name": "stdout",
     "output_type": "stream",
     "text": [
      "JamesJamesJamesJamesJamesJames\n"
     ]
    }
   ],
   "source": [
    "print (var) #answer: a"
   ]
  },
  {
   "cell_type": "code",
   "execution_count": 17,
   "id": "68ef7664",
   "metadata": {},
   "outputs": [],
   "source": [
    "# 5) Get rid of the non fruit item: \n",
    "\n",
    "# sweets = ['apple', 'bananas', 'cantelopes', 'donut']\n",
    "\n",
    "sweets=['apple', 'bananas', 'cantelopes', 'donut']"
   ]
  },
  {
   "cell_type": "code",
   "execution_count": 18,
   "id": "96290ccc",
   "metadata": {},
   "outputs": [
    {
     "data": {
      "text/plain": [
       "'donut'"
      ]
     },
     "execution_count": 18,
     "metadata": {},
     "output_type": "execute_result"
    }
   ],
   "source": [
    "sweets.pop(3)"
   ]
  },
  {
   "cell_type": "code",
   "execution_count": 19,
   "id": "0fffa51d",
   "metadata": {},
   "outputs": [
    {
     "name": "stdout",
     "output_type": "stream",
     "text": [
      "['apple', 'bananas', 'cantelopes']\n"
     ]
    }
   ],
   "source": [
    "print(sweets)"
   ]
  },
  {
   "cell_type": "code",
   "execution_count": 23,
   "id": "2474710c",
   "metadata": {},
   "outputs": [],
   "source": [
    "# 6) Find \"santa\" in the variable \"house\" \n",
    "\n",
    "\n",
    "# room1=['gabe', 'greg']\n",
    "# room2=['michelle','santa','stacey']\n",
    "# room3=['adam','sam', 'melissa']\n",
    "# house= [room2, room1, room3] \n",
    "\n",
    "room1= ['gabe', 'greg']\n",
    "room2= ['michelle','santa','stacey']\n",
    "room3= ['adam','sam', 'melissa']\n",
    "house= [room2, room1, room3] "
   ]
  },
  {
   "cell_type": "code",
   "execution_count": 27,
   "id": "d1a6babc",
   "metadata": {},
   "outputs": [
    {
     "data": {
      "text/plain": [
       "'santa'"
      ]
     },
     "execution_count": 27,
     "metadata": {},
     "output_type": "execute_result"
    }
   ],
   "source": [
    "house[0][1]"
   ]
  },
  {
   "cell_type": "code",
   "execution_count": 1,
   "id": "9aaa8f91",
   "metadata": {},
   "outputs": [],
   "source": [
    "# 7) A dictionary is the best way to store a sequence of events like a recipe.\n",
    "\n",
    "# True or false? \n",
    "\n",
    "#Asnwer: True, the different steps can be divided into key values, e.g Ingridients can be a key, with different items as values etc."
   ]
  },
  {
   "cell_type": "code",
   "execution_count": 14,
   "id": "28a718b9",
   "metadata": {},
   "outputs": [],
   "source": [
    "# 8) Remove all dupes \n",
    "# names = ['mary', 'bob', 'jessica', 'pierre', 'bob', 'jennifer', 'chris', \n",
    "#          'christina', 'tina', 'mary', 'tina', 'bob', 'michelle','jennifer']\n",
    "\n",
    "names = ['mary','bob','jessica','pierre','bob','jennifer','chris','christina','tina','mary','tina','bob','michelle','jennifer']"
   ]
  },
  {
   "cell_type": "code",
   "execution_count": 13,
   "id": "cc195e3d",
   "metadata": {},
   "outputs": [
    {
     "data": {
      "text/plain": [
       "{'bob',\n",
       " 'chris',\n",
       " 'christina',\n",
       " 'jennifer',\n",
       " 'jessica',\n",
       " 'mary',\n",
       " 'michelle',\n",
       " 'pierre',\n",
       " 'tina'}"
      ]
     },
     "execution_count": 13,
     "metadata": {},
     "output_type": "execute_result"
    }
   ],
   "source": [
    "set(names)"
   ]
  },
  {
   "cell_type": "code",
   "execution_count": 24,
   "id": "977e23eb",
   "metadata": {},
   "outputs": [],
   "source": [
    "# 9) What's the difference between = and == ? \n",
    "\n",
    "#Answer: = assigns, == logical operand comparing values"
   ]
  },
  {
   "cell_type": "code",
   "execution_count": null,
   "id": "540a5e7c",
   "metadata": {},
   "outputs": [],
   "source": [
    "# 10) \n",
    "\n",
    "# Use the concepts you learned in class to construct a poem. Please make sure you write your own poem. There are no guidelines to writing this poem but if you want, feel free to following traditional poem formats like ballads, sonnets, haikus or more.  \n",
    "\n",
    "# See below for example. I expect yours to have a bit more elegant. \n",
    "\n",
    "# Credit Poem: \"Still I Rise\" by Maya Angelou \n",
    "\n",
    "# Reference: https://www.popwebdesign.net/popart_blog/en/2018/01/code-poetry-poems-written-in-programming-languages/ "
   ]
  },
  {
   "cell_type": "code",
   "execution_count": 53,
   "id": "42148b0f",
   "metadata": {},
   "outputs": [
    {
     "name": "stdout",
     "output_type": "stream",
     "text": [
      "\n",
      "\n",
      "     NOSTALGIA     \n",
      "--by Farheen Ilyas--\n",
      "\n",
      "\n",
      "What is it about? You ask,\n",
      "A warmth of a hand,\n",
      "A love of an embrace,\n",
      "And a touch of a kiss.\n",
      "\n",
      "\n",
      "How it feels as a space,\n",
      "So secure, so known\n",
      "Even when you feel it,\n",
      "Days, weeks, or years later.\n",
      "\n",
      "\n",
      "What is it that you experience?\n",
      "In that moment of time,\n",
      "That you want to hold on to it,\n",
      "For the rest of your life.\n",
      "\n",
      "\n",
      "Some say, it is\n",
      "Love,\n",
      "Some say it is care,\n",
      "Others might call it affection.\n",
      "\n",
      "\n",
      "For me, it is the answer to my yearning\n",
      "The kind you endure,\n",
      "When you are far away to feel it,\n",
      "And the most you could do, is long for it.\n",
      "\n",
      "\n",
      "And so in those moments,\n",
      "That hand, that embrace and that kiss\n",
      "Is nothing else, but Nostalgia\n",
      "Something I am familiar with, something I call home.\n",
      "\n",
      "\n",
      "     *The End*     \n"
     ]
    }
   ],
   "source": [
    "a= \"Nostalgia\"\n",
    "First=\"Nostalgia\".upper().center(19,\" \")\n",
    "Second=\"by Farheen Ilyas\".center(20,\"-\")\n",
    "Third= \"*The End*\".center(19,\" \")\n",
    "Emotion={'Type': ['Love,', 'Some say it is care,','Others might call it affection.']}\n",
    "\n",
    "print('\\n')\n",
    "print(First)\n",
    "print(Second)\n",
    "print('\\n')\n",
    "print( \"What is it about? You ask,\")\n",
    "print(\"A warmth of a hand,\")\n",
    "print(\"A love of an embrace,\") \n",
    "print(\"And a touch of a kiss.\")\n",
    "print(\"\\n\")\n",
    "print(\"How it feels as a space,\")\n",
    "print(\"So secure, so known\") \n",
    "print(\"Even when you feel it,\")\n",
    "print(\"Days, weeks, or years later.\")\n",
    "print(\"\\n\")\n",
    "print(\"What is it that you experience?\")\n",
    "print(\"In that moment of time,\")\n",
    "print(\"That you want to hold on to it,\")\n",
    "print(\"For the rest of your life.\") \n",
    "print(\"\\n\")\n",
    "print(\"Some say, it is\") \n",
    "print(Emotion['Type'][0])\n",
    "print(Emotion['Type'][1])\n",
    "print(Emotion['Type'][2])\n",
    "print(\"\\n\")\n",
    "print(\"For me, it is the answer to my yearning\")\n",
    "print(\"The kind you endure,\")\n",
    "print(\"When you are far away to feel it,\")\n",
    "print(\"And the most you could do, is long for it.\")  \n",
    "print(\"\\n\")\n",
    "print(\"And so in those moments,\")\n",
    "print(\"That hand, that embrace and that kiss\")\n",
    "print(f\"Is nothing else, but {a}\")\n",
    "print(\"Something I am familiar with, something I call home.\")\n",
    "print(\"\\n\")\n",
    "print(Third)"
   ]
  },
  {
   "cell_type": "code",
   "execution_count": null,
   "id": "19ef7645",
   "metadata": {},
   "outputs": [],
   "source": []
  },
  {
   "cell_type": "code",
   "execution_count": null,
   "id": "4f2d7dd0",
   "metadata": {},
   "outputs": [],
   "source": []
  }
 ],
 "metadata": {
  "kernelspec": {
   "display_name": "Python 3 (ipykernel)",
   "language": "python",
   "name": "python3"
  },
  "language_info": {
   "codemirror_mode": {
    "name": "ipython",
    "version": 3
   },
   "file_extension": ".py",
   "mimetype": "text/x-python",
   "name": "python",
   "nbconvert_exporter": "python",
   "pygments_lexer": "ipython3",
   "version": "3.9.13"
  }
 },
 "nbformat": 4,
 "nbformat_minor": 5
}
