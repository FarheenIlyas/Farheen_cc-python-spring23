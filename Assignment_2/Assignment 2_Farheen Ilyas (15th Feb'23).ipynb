{
 "cells": [
  {
   "cell_type": "code",
   "execution_count": 6,
   "id": "38e040a7",
   "metadata": {},
   "outputs": [],
   "source": [
    "# 1) Iterate through list and print the key \n",
    "\n",
    "# fruit_basket = {'apple': 1, 'bananas': 2, 'cantelopes': 3, 'dates': 4, 'figs': 5, 'grapes': 6, 'tangerines': 7, 'watermelon': 8, 'avocado': 9, 'strawberries': 10}\n"
   ]
  },
  {
   "cell_type": "code",
   "execution_count": 7,
   "id": "4ec67f06",
   "metadata": {},
   "outputs": [],
   "source": [
    "fruit_basket = {'apple': 1, 'bananas': 2, 'cantelopes': 3, 'dates': 4, 'figs': 5, 'grapes': 6, 'tangerines': 7, 'watermelon': 8, 'avocado': 9, 'strawberries': 10}\n"
   ]
  },
  {
   "cell_type": "code",
   "execution_count": 8,
   "id": "f4f9dc6b",
   "metadata": {},
   "outputs": [
    {
     "name": "stdout",
     "output_type": "stream",
     "text": [
      "apple\n",
      "bananas\n",
      "cantelopes\n",
      "dates\n",
      "figs\n",
      "grapes\n",
      "tangerines\n",
      "watermelon\n",
      "avocado\n",
      "strawberries\n"
     ]
    }
   ],
   "source": [
    "for i in fruit_basket:\n",
    "    print(i)"
   ]
  },
  {
   "cell_type": "code",
   "execution_count": 9,
   "id": "d4a4dc40",
   "metadata": {},
   "outputs": [],
   "source": [
    "# 2) Iterate through list and print the value \n",
    "# fruit_basket = {'apple': 1, 'bananas': 2, 'cantelopes': 3, 'dates': 4, 'figs': 5, 'grapes': 6, 'tangerines': 7, 'watermelon': 8, 'avocado': 9, 'strawberries': 10}"
   ]
  },
  {
   "cell_type": "code",
   "execution_count": 10,
   "id": "8d2af39c",
   "metadata": {},
   "outputs": [],
   "source": [
    "fruit_basket = {'apple': 1, 'bananas': 2, 'cantelopes': 3, 'dates': 4, 'figs': 5, 'grapes': 6, 'tangerines': 7, 'watermelon': 8, 'avocado': 9, 'strawberries': 10}"
   ]
  },
  {
   "cell_type": "code",
   "execution_count": 16,
   "id": "3ded1361",
   "metadata": {},
   "outputs": [
    {
     "name": "stdout",
     "output_type": "stream",
     "text": [
      "1\n",
      "2\n",
      "3\n",
      "4\n",
      "5\n",
      "6\n",
      "7\n",
      "8\n",
      "9\n",
      "10\n"
     ]
    }
   ],
   "source": [
    "for i in fruit_basket.values():\n",
    "    print(i)\n",
    "  "
   ]
  },
  {
   "cell_type": "code",
   "execution_count": 17,
   "id": "0a7b0dd8",
   "metadata": {},
   "outputs": [],
   "source": [
    "# 3) Find sum of all the fruit \n",
    "# fruit_basket = {'apple': 1, 'bananas': 2, 'cantelopes': 3, 'dates': 4, 'figs': 5, 'grapes': 6, 'tangerines': 7, 'watermelon': 8, 'avocado': 9, 'strawberries': 10}"
   ]
  },
  {
   "cell_type": "code",
   "execution_count": 18,
   "id": "5a4a3ba0",
   "metadata": {},
   "outputs": [],
   "source": [
    "fruit_basket = {'apple': 1, 'bananas': 2, 'cantelopes': 3, 'dates': 4, 'figs': 5, 'grapes': 6, 'tangerines': 7, 'watermelon': 8, 'avocado': 9, 'strawberries': 10}"
   ]
  },
  {
   "cell_type": "code",
   "execution_count": 27,
   "id": "052e8bde",
   "metadata": {},
   "outputs": [
    {
     "name": "stdout",
     "output_type": "stream",
     "text": [
      "55\n"
     ]
    }
   ],
   "source": [
    "print(sum(fruit_basket.values())) #Option 1: based on my first understanding of this question"
   ]
  },
  {
   "cell_type": "code",
   "execution_count": 24,
   "id": "f3b25c34",
   "metadata": {},
   "outputs": [
    {
     "data": {
      "text/plain": [
       "55"
      ]
     },
     "execution_count": 24,
     "metadata": {},
     "output_type": "execute_result"
    }
   ],
   "source": [
    "def fruit_basket(*values):\n",
    "    return sum(values)\n",
    "fruit_basket (1,2,3,4,5,6,7,8,9,10) #Option 2"
   ]
  },
  {
   "cell_type": "code",
   "execution_count": 31,
   "id": "9dd6eeb6",
   "metadata": {},
   "outputs": [
    {
     "data": {
      "text/plain": [
       "dict_keys(['apple', 'bananas', 'cantelopes', 'dates', 'figs', 'grapes', 'tangerines', 'watermelon', 'avocado', 'strawberries'])"
      ]
     },
     "execution_count": 31,
     "metadata": {},
     "output_type": "execute_result"
    }
   ],
   "source": [
    "fruit_basket.keys() #Option 3: adding this as your question can also mean a sum of all the list of fruits, so that;s\n",
    "#why i have appended the names here as well"
   ]
  },
  {
   "cell_type": "code",
   "execution_count": null,
   "id": "9a066e9c",
   "metadata": {},
   "outputs": [],
   "source": [
    "# 4) What is the output of the add() function call and why? \n",
    "\n",
    "\n",
    "# def add(a, b):\n",
    "#     return a+5, b+5\n",
    "\n",
    "# result = add(3, 2)\n",
    "# print(result)\n",
    "\n",
    "\n",
    "# a) 15\n",
    "# b) 8\n",
    "# c) (8, 7)\n",
    "# d) Syntax Error"
   ]
  },
  {
   "cell_type": "code",
   "execution_count": 1,
   "id": "80e10357",
   "metadata": {},
   "outputs": [
    {
     "name": "stdout",
     "output_type": "stream",
     "text": [
      "(8, 7)\n"
     ]
    }
   ],
   "source": [
    "def add(a, b):\n",
    "    return a+5, b+5\n",
    "result = add(3,2)\n",
    "print(result)\n",
    "\n",
    "# Answer: C \n",
    "#because after defining, through \"result\" you are allowing for multiple arguments\n",
    "#to be incorporated in the \"add\" function and it is also defining what a and b are when we call,\n",
    "#as arguments are not defined until they are called and through return it is relying on the local function of \"add\"\n",
    "#which is to add 5 to a and b while executing the function. Usually, If the return statement contains an expression,\n",
    "#it’s evaluated first and then the value is returned."
   ]
  },
  {
   "cell_type": "code",
   "execution_count": 32,
   "id": "6df894f4",
   "metadata": {},
   "outputs": [],
   "source": [
    "# 5) Select the statements that are true: \n",
    "\n",
    "\n",
    "# a) A Python function can return only a single value\n",
    "# b) A function can take an unlimited number of arguments.\n",
    "# c) A Python function can return multiple values\n",
    "# d) Python function doesn’t return anything unless and until you add a return statement"
   ]
  },
  {
   "cell_type": "code",
   "execution_count": 5,
   "id": "44f85ae4",
   "metadata": {},
   "outputs": [],
   "source": [
    "# Answers: b and c "
   ]
  },
  {
   "cell_type": "code",
   "execution_count": 33,
   "id": "ad673ba3",
   "metadata": {},
   "outputs": [],
   "source": [
    "# 6)Python function always returns a value\n",
    "\n",
    "# True or False and why? "
   ]
  },
  {
   "cell_type": "code",
   "execution_count": 11,
   "id": "3d4e1a98",
   "metadata": {},
   "outputs": [],
   "source": [
    "# Answer: True\n",
    "# any function without an explicit return statement, Python returns an implicit default return value \"None\""
   ]
  },
  {
   "cell_type": "code",
   "execution_count": null,
   "id": "94cdf5c9",
   "metadata": {},
   "outputs": [],
   "source": [
    "# 7) Given the nested if-else structure below, what will be the value of x after code execution completes\n",
    "\n",
    "# x = 0\n",
    "# a = 0\n",
    "# b = -5\n",
    "# if a > 0:\n",
    "#     if b < 0: \n",
    "#         x = x + 5 \n",
    "#     elif a > 5:\n",
    "#         x = x + 4\n",
    "#     else:\n",
    "#         x = x + 3\n",
    "# else:\n",
    "#     x = x + 2\n",
    "# print(x)"
   ]
  },
  {
   "cell_type": "code",
   "execution_count": 47,
   "id": "6bf32834",
   "metadata": {},
   "outputs": [
    {
     "name": "stdout",
     "output_type": "stream",
     "text": [
      "2\n"
     ]
    }
   ],
   "source": [
    "x = 0\n",
    "a = 0\n",
    "b = -5\n",
    "\n",
    "if a > 0:\n",
    "    if b < 0:\n",
    "        x = x + 5 \n",
    "    elif a > 5:\n",
    "        x = x + 4\n",
    "    else:\n",
    "        x = x + 3\n",
    "else:\n",
    "     x = x + 2\n",
    "print(x)"
   ]
  },
  {
   "cell_type": "code",
   "execution_count": 48,
   "id": "751d3f1a",
   "metadata": {},
   "outputs": [],
   "source": [
    "# 8) What is the output of the following if statement and why? \n",
    "\n",
    "\n",
    "# a, b = 12, 5\n",
    "# if a + b:\n",
    "#     print('True')\n",
    "# else:\n",
    "#   print('False')"
   ]
  },
  {
   "cell_type": "code",
   "execution_count": 13,
   "id": "295dc706",
   "metadata": {},
   "outputs": [
    {
     "name": "stdout",
     "output_type": "stream",
     "text": [
      "True\n"
     ]
    }
   ],
   "source": [
    "a, b = -12, 5\n",
    "\n",
    "if a + b:\n",
    "    print('True')\n",
    "else:\n",
    "    print('False')\n",
    "    \n",
    "# The output is \"True\" because, in Python non-zero values are considered True"
   ]
  },
  {
   "cell_type": "markdown",
   "id": "06aa520a",
   "metadata": {},
   "source": [
    "9. A calculator is defined as the following:\n",
    "\"something used for making mathematical calculations, in particular a small electronic device with a keyboard and a visual display.\"\n",
    "\n",
    "Create a creative calculator of your choice where something is being calculated (it must perform some sort of operation). Feel free to get creative with it. Your calculator can be also be literal. Your calculator calculator must include the following:\n",
    "\n",
    "<ul>\n",
    "    <li> an input box </li>\n",
    "    <li> a function</li>\n",
    "</ul>\n",
    "Some examples of things to calculate:\n",
    "<ul>\n",
    "<li>adding strings</li>\n",
    "<li>create your own version of verbal arithmetic (https://en.wikipedia.org/wiki/Verbal_arithmetic)</li>\n",
    "<li>how many times \"I\" is mentioned in a paragraph</li>\n",
    "<li>add more operations to the calculator like REMAINDER (%) or POWER (**)</li>\n",
    "</ul>\n",
    "Refer to the sample code below to get started."
   ]
  },
  {
   "cell_type": "code",
   "execution_count": null,
   "id": "29a5e7cc",
   "metadata": {},
   "outputs": [],
   "source": [
    "def calculator():\n",
    "\n",
    "    operation = input(''' \n",
    "Please type in the math operation you would like to complete:\n",
    "+ for addition\n",
    "- for subtraction\n",
    "* for multiplication\n",
    "/ for division\n",
    "''') # Triple-quotes allow the string to span multiple lines\n",
    "    \n",
    "    # Prompt the user to input two numbers\n",
    "    # The int() function converts the string that comes in from the input() function to an integer\n",
    "    number_1 = int(input('Please enter the first number: '))\n",
    "    number_2 = int(input('Please enter the second number: '))\n",
    "\n",
    "    # Conditional statement:\n",
    "    # If the user entered '+', perform an addition\n",
    "    if operation == '+':\n",
    "        print(number_1, '+', number_2, '=')\n",
    "        print(number_1 + number_2)\n",
    "\n",
    "    # Else if the user entered '-', perform a substraction\n",
    "    elif operation == '-':\n",
    "        print(number_1, '-', number_2, '=')\n",
    "        print(number_1 - number_2)\n",
    "\n",
    "    # Else if the user entered '*', perform a multiplication\n",
    "    elif operation == '*':\n",
    "        print(number_1, '*', number_2, '=')\n",
    "        print(number_1 * number_2)\n",
    "\n",
    "    # Else if the user entered '/', perform a division\n",
    "    elif operation == '/':\n",
    "        print(number_1, '/', number_2, '=')\n",
    "        print(number_1 / number_2)\n",
    "    \n",
    "    # Else notify the user that they have not put in a valid operator (in place to handle error-message)\n",
    "    else:\n",
    "        print('You have not entered a valid operator')"
   ]
  },
  {
   "cell_type": "code",
   "execution_count": null,
   "id": "5b1fe818",
   "metadata": {},
   "outputs": [],
   "source": [
    "calculator()"
   ]
  },
  {
   "cell_type": "code",
   "execution_count": null,
   "id": "00560052",
   "metadata": {},
   "outputs": [],
   "source": [
    "#Work in Progress\n",
    "\n",
    "def Enter_your_text\n",
    "string = \"Welcome to Python lesson\";\n",
    "print(\"All the duplicate characters in the string are: \"); \n",
    "# Counting every characters of the string \n",
    "for s in range(0, len(string)): \n",
    "   count = 1; \n",
    "   for t in range(s+1, len(string)):\n",
    "      if(string[s] == string[t] and string[s] != ' '): \n",
    "         count = count + 1; \n",
    "# setting the string t to 0 to avoid printing the characters already taken \n",
    "   string = string[:t] + '0' + string[t+1:]; \n",
    "# If the count is greater than 1, the character is considered as duplicate \n",
    "   if(count > 1 and string[s] != '0'): \n",
    "      print(string[s],\" - \",count);"
   ]
  },
  {
   "cell_type": "code",
   "execution_count": 50,
   "id": "bdeedbc0",
   "metadata": {},
   "outputs": [
    {
     "ename": "KeyboardInterrupt",
     "evalue": "Interrupted by user",
     "output_type": "error",
     "traceback": [
      "\u001b[1;31m---------------------------------------------------------------------------\u001b[0m",
      "\u001b[1;31mKeyboardInterrupt\u001b[0m                         Traceback (most recent call last)",
      "\u001b[1;32m~\\AppData\\Local\\Temp\\ipykernel_7364\\604427296.py\u001b[0m in \u001b[0;36m<module>\u001b[1;34m\u001b[0m\n\u001b[0;32m      1\u001b[0m \u001b[1;31m#Work in Progress\u001b[0m\u001b[1;33m\u001b[0m\u001b[1;33m\u001b[0m\u001b[0m\n\u001b[0;32m      2\u001b[0m \u001b[1;32mimport\u001b[0m \u001b[0mcollections\u001b[0m\u001b[1;33m\u001b[0m\u001b[1;33m\u001b[0m\u001b[0m\n\u001b[1;32m----> 3\u001b[1;33m \u001b[0mx\u001b[0m \u001b[1;33m=\u001b[0m \u001b[0minput\u001b[0m \u001b[1;33m(\u001b[0m\u001b[1;34m'Enter your text :'\u001b[0m\u001b[1;33m)\u001b[0m\u001b[1;33m\u001b[0m\u001b[1;33m\u001b[0m\u001b[0m\n\u001b[0m\u001b[0;32m      4\u001b[0m \u001b[0mtext\u001b[0m\u001b[1;33m=\u001b[0m \u001b[1;34m\"Hello\"\u001b[0m\u001b[1;33m\u001b[0m\u001b[1;33m\u001b[0m\u001b[0m\n\u001b[0;32m      5\u001b[0m \u001b[0mwords\u001b[0m \u001b[1;33m=\u001b[0m \u001b[0mtext\u001b[0m\u001b[1;33m.\u001b[0m\u001b[0msplit\u001b[0m\u001b[1;33m(\u001b[0m\u001b[1;33m)\u001b[0m\u001b[1;33m\u001b[0m\u001b[1;33m\u001b[0m\u001b[0m\n",
      "\u001b[1;32m~\\anaconda3\\lib\\site-packages\\ipykernel\\kernelbase.py\u001b[0m in \u001b[0;36mraw_input\u001b[1;34m(self, prompt)\u001b[0m\n\u001b[0;32m   1175\u001b[0m                 \u001b[1;34m\"raw_input was called, but this frontend does not support input requests.\"\u001b[0m\u001b[1;33m\u001b[0m\u001b[1;33m\u001b[0m\u001b[0m\n\u001b[0;32m   1176\u001b[0m             )\n\u001b[1;32m-> 1177\u001b[1;33m         return self._input_request(\n\u001b[0m\u001b[0;32m   1178\u001b[0m             \u001b[0mstr\u001b[0m\u001b[1;33m(\u001b[0m\u001b[0mprompt\u001b[0m\u001b[1;33m)\u001b[0m\u001b[1;33m,\u001b[0m\u001b[1;33m\u001b[0m\u001b[1;33m\u001b[0m\u001b[0m\n\u001b[0;32m   1179\u001b[0m             \u001b[0mself\u001b[0m\u001b[1;33m.\u001b[0m\u001b[0m_parent_ident\u001b[0m\u001b[1;33m[\u001b[0m\u001b[1;34m\"shell\"\u001b[0m\u001b[1;33m]\u001b[0m\u001b[1;33m,\u001b[0m\u001b[1;33m\u001b[0m\u001b[1;33m\u001b[0m\u001b[0m\n",
      "\u001b[1;32m~\\anaconda3\\lib\\site-packages\\ipykernel\\kernelbase.py\u001b[0m in \u001b[0;36m_input_request\u001b[1;34m(self, prompt, ident, parent, password)\u001b[0m\n\u001b[0;32m   1217\u001b[0m             \u001b[1;32mexcept\u001b[0m \u001b[0mKeyboardInterrupt\u001b[0m\u001b[1;33m:\u001b[0m\u001b[1;33m\u001b[0m\u001b[1;33m\u001b[0m\u001b[0m\n\u001b[0;32m   1218\u001b[0m                 \u001b[1;31m# re-raise KeyboardInterrupt, to truncate traceback\u001b[0m\u001b[1;33m\u001b[0m\u001b[1;33m\u001b[0m\u001b[0m\n\u001b[1;32m-> 1219\u001b[1;33m                 \u001b[1;32mraise\u001b[0m \u001b[0mKeyboardInterrupt\u001b[0m\u001b[1;33m(\u001b[0m\u001b[1;34m\"Interrupted by user\"\u001b[0m\u001b[1;33m)\u001b[0m \u001b[1;32mfrom\u001b[0m \u001b[1;32mNone\u001b[0m\u001b[1;33m\u001b[0m\u001b[1;33m\u001b[0m\u001b[0m\n\u001b[0m\u001b[0;32m   1220\u001b[0m             \u001b[1;32mexcept\u001b[0m \u001b[0mException\u001b[0m\u001b[1;33m:\u001b[0m\u001b[1;33m\u001b[0m\u001b[1;33m\u001b[0m\u001b[0m\n\u001b[0;32m   1221\u001b[0m                 \u001b[0mself\u001b[0m\u001b[1;33m.\u001b[0m\u001b[0mlog\u001b[0m\u001b[1;33m.\u001b[0m\u001b[0mwarning\u001b[0m\u001b[1;33m(\u001b[0m\u001b[1;34m\"Invalid Message:\"\u001b[0m\u001b[1;33m,\u001b[0m \u001b[0mexc_info\u001b[0m\u001b[1;33m=\u001b[0m\u001b[1;32mTrue\u001b[0m\u001b[1;33m)\u001b[0m\u001b[1;33m\u001b[0m\u001b[1;33m\u001b[0m\u001b[0m\n",
      "\u001b[1;31mKeyboardInterrupt\u001b[0m: Interrupted by user"
     ]
    }
   ],
   "source": [
    "#Work in Progress\n",
    "import collections \n",
    "x = input ('Enter your text :')\n",
    "text= \"Hello\"\n",
    "words = text.split()\n",
    "word_counts = collections.Counter(words)\n",
    "for word, count in sorted(word_counts.items()):\n",
    "    print('\"%s\" is repeated %d time%s.' % (word, count, \"s\" if count > 1 else \"\"))"
   ]
  },
  {
   "cell_type": "code",
   "execution_count": null,
   "id": "7c2f8e99",
   "metadata": {},
   "outputs": [],
   "source": []
  },
  {
   "cell_type": "code",
   "execution_count": null,
   "id": "b33512be",
   "metadata": {},
   "outputs": [],
   "source": [
    "\n"
   ]
  },
  {
   "cell_type": "code",
   "execution_count": null,
   "id": "23cf086f",
   "metadata": {},
   "outputs": [],
   "source": []
  }
 ],
 "metadata": {
  "kernelspec": {
   "display_name": "Python 3 (ipykernel)",
   "language": "python",
   "name": "python3"
  },
  "language_info": {
   "codemirror_mode": {
    "name": "ipython",
    "version": 3
   },
   "file_extension": ".py",
   "mimetype": "text/x-python",
   "name": "python",
   "nbconvert_exporter": "python",
   "pygments_lexer": "ipython3",
   "version": "3.9.13"
  }
 },
 "nbformat": 4,
 "nbformat_minor": 5
}
