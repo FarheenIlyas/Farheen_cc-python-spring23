{
 "cells": [
  {
   "cell_type": "code",
   "execution_count": 3,
   "id": "ca750df3",
   "metadata": {},
   "outputs": [],
   "source": [
    "# Import necessary libraries\n",
    "from PyMovieDb import IMDB\n",
    "import json\n",
    "import requests\n",
    "from bs4 import BeautifulSoup\n",
    "import pandas as pd\n",
    "\n",
    "import getpass\n",
    "\n",
    "import os\n",
    "import openai\n"
   ]
  },
  {
   "cell_type": "code",
   "execution_count": 4,
   "id": "7f23d91b",
   "metadata": {},
   "outputs": [],
   "source": [
    "# Define headers for HTTP request to give and impression of the site being browsed as a user than a machine\n",
    "HEADERS ={\"User-Agent\":\"Mozilla/5.0 (Windows NT 10.0; Win64; x64; rv:66.0) Gecko/20100101 Firefox/66.0\", \"Accept-Encoding\":\"gzip, deflate\", \"Accept\":\"text/html,application/xhtml+xml,application/xml;q=0.9,*/*;q=0.8\", \"DNT\":\"1\",\"Connection\":\"close\", \"Upgrade-Insecure-Requests\":\"1\"}\n"
   ]
  },
  {
   "cell_type": "code",
   "execution_count": 31,
   "id": "41b1b046",
   "metadata": {},
   "outputs": [
    {
     "name": "stdout",
     "output_type": "stream",
     "text": [
      "Enter OpenAI API Key: ········\n"
     ]
    }
   ],
   "source": [
    "openai.api_key = getpass.getpass(\"Enter OpenAI API Key: \")"
   ]
  },
  {
   "cell_type": "code",
   "execution_count": 5,
   "id": "789c4861",
   "metadata": {},
   "outputs": [],
   "source": [
    "# Create an instance of IMDB class from PyMovieDb library\n",
    "imdb = IMDB()"
   ]
  },
  {
   "cell_type": "code",
   "execution_count": 35,
   "id": "e1d238a0",
   "metadata": {},
   "outputs": [
    {
     "name": "stdout",
     "output_type": "stream",
     "text": [
      "Enter a movie to search: justice league\n"
     ]
    }
   ],
   "source": [
    "# Ask user for movie name to search\n",
    "user_input = input(\"Enter a movie to search: \")"
   ]
  },
  {
   "cell_type": "code",
   "execution_count": 36,
   "id": "ab904a8c",
   "metadata": {},
   "outputs": [],
   "source": [
    "# Search for the movie using the IMDB class instance\n",
    "# and get the result as a JSON object\n",
    "# i am not looking at TV shows so have tagged it as false\n",
    "\n",
    "res = imdb.get_by_name(user_input, tv=False)\n",
    "#the result came as string so to run it, used json to query"
   ]
  },
  {
   "cell_type": "code",
   "execution_count": 37,
   "id": "c8e4279e",
   "metadata": {},
   "outputs": [],
   "source": [
    "# Convert the JSON object to Python dictionary using json module\n",
    "\n",
    "res_json = json.loads(res)\n",
    "\n",
    "# Upon inspection of movies page, all users review have a commom url string which we are adding to the basic url of movie\n",
    "#to ger to movies's review page directly (Via Network page i identified the pages being acccessed)\n",
    "movie_review_url = res_json[\"url\"]+\"reviews?ref_=tt_urv\""
   ]
  },
  {
   "cell_type": "code",
   "execution_count": 38,
   "id": "6c9c248c",
   "metadata": {},
   "outputs": [
    {
     "name": "stdout",
     "output_type": "stream",
     "text": [
      "https://www.imdb.com/title/tt0974015/reviews?ref_=tt_urv\n"
     ]
    }
   ],
   "source": [
    "print(movie_review_url)"
   ]
  },
  {
   "cell_type": "code",
   "execution_count": 39,
   "id": "17b83b31",
   "metadata": {},
   "outputs": [],
   "source": [
    "# Send a HTTP GET request to the movie's reviews page using requests library\n",
    "# and pass the headers defined earlier\n",
    "movie_review_response = requests.get(movie_review_url, headers=HEADERS)\n",
    "\n",
    "#using html parser\n",
    "movie_review_response_content = BeautifulSoup(movie_review_response.content, 'lxml')\n"
   ]
  },
  {
   "cell_type": "code",
   "execution_count": 40,
   "id": "32056ace",
   "metadata": {},
   "outputs": [],
   "source": [
    "# Select all review containers on the page and store them in a list\n",
    "movie_review = movie_review_response_content.select(\".review-container\")"
   ]
  },
  {
   "cell_type": "code",
   "execution_count": 41,
   "id": "0f86abed",
   "metadata": {
    "scrolled": true
   },
   "outputs": [
    {
     "name": "stdout",
     "output_type": "stream",
     "text": [
      "\n",
      "\n",
      "Movie: justice league\n",
      "Review 1\n",
      "\n",
      "\n",
      "After watching the Snyder cut i will never ever acknowledge this cut the josstice league , doesn't matter now this terrible corny tacky version is dead to me and surely every comic book fan you don't have to like Dc or love it you can hate it but once you watch the Snyder cut you will be like wow this is a comic book masterpiece.\n",
      "\n",
      "\n",
      "\n",
      "\n",
      "Positive\n",
      "\n",
      "\n",
      "\n",
      "\n",
      "Movie: justice league\n",
      "Review 2\n",
      "\n",
      "\n",
      "Here we are. The Justice League. DC's greatest superheroes come together to save the world...and what is the first scene you ask? Henry Cavill's CGI'd shaved face. Ohhh dear...yup...we're in for quite a ride. So with Superman dead, Batman and Wonder Woman must arrange a team of gifted individuals to stop the world destroyer Steppenwolf from, you guessed it, destroying the world. Sighhhh...I kinda just want to hug this film and repeatedly whisper \"there, there...it'll all be alright.\". Apprehensively, I went into this unmotivated and expecting the worst superhero film since Suicide Squad. Fortunately, this isn't that bad. But, it's not great either. The film's greatest achievement is the coalition of the Justice League members. Their interactions, mannerisms and even their physicality was pretty much on point. Aquaman, although absolutely useless in this, had the physical prowess of a beastly underwater warrior. The Flash was quirky and provided several comedic moments. Cyborg was essentially the technological logistics manager. Wonder Woman and Batman were the parents who lead their children into battle. Heck, she even refers to them as children! Yet it all worked so well. Remember, this is a comic book adaptation, so the humour and light hearted nature of its source material does show. The human CGI for the most part was actually executed well (far better than \"Thor Ragnarok\") and the slow motion scenes with The Flash were gorgeous to watch. Snyder is typically style over substance, which is apparent here. The story is so boringly uninspired that it defines the word \"lazy\". I cannot be dealing with another 'save the world' situation. I'm also becoming irritated with underused, bland and weak villains who are supposed to be absurdly powerful. Steppenwolf was wasted potential. Constant use of green screen, hit and miss script, rushed third act...just too many flaws I'm afraid. Was it too soon for a Justice League film considering no origins for Aquaman, The Flash and Cyborg yet? Personally, I think so.\n",
      "\n",
      "\n",
      "\n",
      "\n",
      "Mixed sentiment\n",
      "\n",
      "\n",
      "\n",
      "\n",
      "Movie: justice league\n",
      "Review 3\n",
      "\n",
      "\n",
      "This was such a good downgrade, it's unbelievable. The movie doesn't shelter a soul. You can't show feelings to it. It's ugly. There isn't much thought put into it. It's like not a part of the Trilogy: Forced and lame jokes, casual and uninspiring score, stereotyped and predictable plot, cheesy and generic writing, undeveloped villain, inappropriate atmosphere, wrong character development... I mean how does one go from this ''Tell me, do you bleed'' to this ''There's something definitely bleeding'' It's like a 'joke'. Who wrote this garbage? I mean why, what was your motive?Apart from the garbage writing, the coloring sucked too. The whole movie was ugly as hell. After Superman's resurrection, the fight scene was completely miss edited. Why is the sun rising? Do you guys wanted it to make more colorful? Is because Superman takes his power from the sun? Because of this garbage coloring, the VFX and the CGI looked garbage.Where is the villain? That villain shouldn't have wasted like that. He made a pretty good entrance, but the movie didn't capitalize on it afterwards. We didn't get to know him. He was in exile, Superman died so he has sent to earth to destroy it. Yeah, sure.Fight scenes were a big downgrade too. Although there were some good shots, especially where Amazons and Steppenwolf fight, most of the fight scenes were just casual and emotionless.Overall, this movie is just another ''Batman & Robin''. Back then, due to its darkness, they gave Batman nipple. Now, due to its darkness, they gave Batman ''Do you really talk to fish'', ''There is something definitely bleeding'' lines. The history repeating itself.They gave $300,000,000 for this movie, but it doesn't look like that big of a movie, right? WB really did something. They've disposed of movie's original composers. They've re-edited and rewrote the whole movie. They've brought a new guy, who doesn't care about the characters or bother to know them, as a writer and director to make the movie look more like a Disney movie. And with that guy, they added a bunch of reshoots which doesn't add too much to the movie other than garbageness and a bad CGI mouth. This version of Justice League is just wrong, doesn't add up, doesn't lead anywhere. Every storyline that we started, every future we were building up to gone with this movie. It just depressing.\n",
      "\n",
      "\n",
      "\n",
      "\n",
      "Negative\n",
      "\n",
      "\n"
     ]
    }
   ],
   "source": [
    "# Loop through first 5 reviews and perform sentiment analysis on each\n",
    "for index in range(3):\n",
    "    # Print movie name and review number\n",
    "    print(\"\\n\")\n",
    "    print(\"Movie: \", end=\"\")\n",
    "    print(user_input)\n",
    "    print(\"Review \", end=\"\")\n",
    "    print(index+1, end=\"\")\n",
    "    print(\"\\n\\n\")\n",
    "    print(movie_review[index].select(\".text\")[0].text) # Here red .text means where . = class and the black #the .text here picks up the text of any BeautifulSoup html\n",
    "    print(\"\\n\")\n",
    "\n",
    "    # Call OpenAI's GPT-3 API to classify sentiment in the review (used prompt from OpenAI Advanced Tweet Classifier)\n",
    "    response = openai.Completion.create(\n",
    "    model=\"text-davinci-003\",\n",
    "    prompt=\"Classify the sentiment in this review:\\n\\n\"+movie_review[index].select(\".text\")[0].text, \n",
    "    temperature=0,  #randomness\n",
    "    max_tokens=500,#characters in response\n",
    "    top_p=1.0, #controls diversity\n",
    "    frequency_penalty=0.0, #decrease repetition \n",
    "    presence_penalty=0.0 #increase likelihood to talk about new topic \n",
    "    )\n",
    "     # Get the sentiment classification only from the API response\n",
    "    sentiment = response[\"choices\"][0][\"text\"]\n",
    "    print(sentiment)\n",
    "    print(\"\\n\")\n"
   ]
  },
  {
   "cell_type": "code",
   "execution_count": null,
   "id": "e40445eb",
   "metadata": {},
   "outputs": [],
   "source": []
  }
 ],
 "metadata": {
  "kernelspec": {
   "display_name": "Python 3 (ipykernel)",
   "language": "python",
   "name": "python3"
  },
  "language_info": {
   "codemirror_mode": {
    "name": "ipython",
    "version": 3
   },
   "file_extension": ".py",
   "mimetype": "text/x-python",
   "name": "python",
   "nbconvert_exporter": "python",
   "pygments_lexer": "ipython3",
   "version": "3.9.13"
  }
 },
 "nbformat": 4,
 "nbformat_minor": 5
}
